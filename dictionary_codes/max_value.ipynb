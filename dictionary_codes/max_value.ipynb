{
  "nbformat": 4,
  "nbformat_minor": 0,
  "metadata": {
    "colab": {
      "name": "max_value.ipynb",
      "provenance": []
    },
    "kernelspec": {
      "name": "python3",
      "display_name": "Python 3"
    },
    "language_info": {
      "name": "python"
    }
  },
  "cells": [
    {
      "cell_type": "markdown",
      "metadata": {
        "id": "5r_mdhyW04YM"
      },
      "source": [
        "The code calculates the maximum value inside a nested dictionary. It returns the corresponding maximum value and its keys."
      ]
    },
    {
      "cell_type": "code",
      "metadata": {
        "colab": {
          "base_uri": "https://localhost:8080/"
        },
        "id": "kr8DvR8q1X7t",
        "outputId": "64d6c6c6-bef0-41c5-b5c5-ec9f7439438f"
      },
      "source": [
        "def findmax(d, key1, key2):\n",
        "    d2 = {}\n",
        "    max_l = 0\n",
        "    max_b = 0\n",
        "    max_k1 = 0\n",
        "    max_k2 = 0\n",
        "    for k, v in d.items():\n",
        "        for k2, v2 in v.items():\n",
        "            if k2 == key1 and v2 > max_l:\n",
        "                max_l = v2\n",
        "                max_k1 = k\n",
        "            elif k2 == key2 and v2 > max_b:\n",
        "                max_b = v2\n",
        "                max_k2 = k\n",
        "    l1 = []\n",
        "    l2 = []\n",
        "    l1.append(max_k1)\n",
        "    l1.append(max_l)\n",
        "    l2.append(max_k2)\n",
        "    l2.append(max_b)\n",
        "\n",
        "    d2[key1] = l1\n",
        "    d2[key2] = l2\n",
        "    print(d2)\n",
        "    return d2\n",
        "\n",
        "\n",
        "# Run server\n",
        "if __name__ == '__main__':\n",
        "    d = {\n",
        "        \"1\": {'l': 20, 'b': 30, 'w': 30},\n",
        "        \"2\": {'l': 40, 'b': 10, 'w': 50},\n",
        "        \"3\": {'l': 400, 'b': 10, 'w': 50}\n",
        "    }\n",
        "    findmax(d, 'l', 'w')"
      ],
      "execution_count": 1,
      "outputs": [
        {
          "output_type": "stream",
          "name": "stdout",
          "text": [
            "{'l': ['3', 400], 'w': ['2', 50]}\n"
          ]
        }
      ]
    },
    {
      "cell_type": "markdown",
      "source": [
        "Method 2"
      ],
      "metadata": {
        "id": "ObDxThZWcCsW"
      }
    },
    {
      "cell_type": "code",
      "source": [
        "\n",
        "\n",
        "def calculate_highest(dictionari, key_list):\n",
        "\n",
        "   highest = dict.fromkeys(key_list, (None, float('-inf')))\n",
        "\n",
        "   for key, nested in dictionari.items():\n",
        "       for k in nested.keys() & highest:  # intersection of keys\n",
        "          if highest[k][0] is None or dictionari[highest[k][0]][k] < nested[k]:\n",
        "               highest[k] = (key, nested[k])\n",
        "\n",
        "\n",
        "\n",
        "   return highest\n",
        "\n",
        "\n",
        "\n",
        "\n",
        "if __name__ == '__main__':\n",
        "    d = {\n",
        "        \"1\": {'l': 20, 'b': 30, 'w': 30},\n",
        "        \"2\": {'l': 40, 'b': 10, 'w': 50},\n",
        "        \"3\": {'l': 400, 'b': 10, 'w': 50}\n",
        "    }\n",
        "\n",
        "    list2 = ['l', 'w']\n",
        "\n",
        "\n",
        "\n",
        "    highest = calculate_highest(d, list2)\n",
        "\n",
        "    print(highest)"
      ],
      "metadata": {
        "colab": {
          "base_uri": "https://localhost:8080/"
        },
        "id": "sV6xMVJNcHD-",
        "outputId": "fbe2485a-d0d8-45ae-ba92-a68993cee18b"
      },
      "execution_count": 2,
      "outputs": [
        {
          "output_type": "stream",
          "name": "stdout",
          "text": [
            "{'l': ('3', 400), 'w': ('2', 50)}\n"
          ]
        }
      ]
    }
  ]
}