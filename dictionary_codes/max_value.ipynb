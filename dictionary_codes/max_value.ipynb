{
  "nbformat": 4,
  "nbformat_minor": 0,
  "metadata": {
    "colab": {
      "name": "Untitled0.ipynb",
      "provenance": []
    },
    "kernelspec": {
      "name": "python3",
      "display_name": "Python 3"
    },
    "language_info": {
      "name": "python"
    }
  },
  "cells": [
    {
      "cell_type": "markdown",
      "metadata": {
        "id": "5r_mdhyW04YM"
      },
      "source": [
        "The code calculates the maximum value inside a nested dictionary. It returns the corresponding maximum value and its keys."
      ]
    },
    {
      "cell_type": "code",
      "metadata": {
        "colab": {
          "base_uri": "https://localhost:8080/"
        },
        "id": "kr8DvR8q1X7t",
        "outputId": "8b94a152-b14f-463a-eedd-d42488f45a04"
      },
      "source": [
        "def findmax(d, key1, key2):\n",
        "    d2 = {}\n",
        "    max_l = 0\n",
        "    max_b = 0\n",
        "    max_k1 = 0\n",
        "    max_k2 = 0\n",
        "    for k, v in d.items():\n",
        "        for k2, v2 in v.items():\n",
        "            if k2 == key1 and v2 > max_l:\n",
        "                max_l = v2\n",
        "                max_k1 = k\n",
        "            elif k2 == key2 and v2 > max_b:\n",
        "                max_b = v2\n",
        "                max_k2 = k\n",
        "    l1 = []\n",
        "    l2 = []\n",
        "    l1.append(max_k1)\n",
        "    l1.append(max_l)\n",
        "    l2.append(max_k2)\n",
        "    l2.append(max_b)\n",
        "\n",
        "    d2[key1] = l1\n",
        "    d2[key2] = l2\n",
        "    print(d2)\n",
        "    return d2\n",
        "\n",
        "\n",
        "# Run server\n",
        "if __name__ == '__main__':\n",
        "    d = {\n",
        "        \"1\": {'l': 20, 'b': 30, 'w': 30},\n",
        "        \"2\": {'l': 40, 'b': 10, 'w': 50},\n",
        "        \"3\": {'l': 400, 'b': 10, 'w': 50}\n",
        "    }\n",
        "    findmax(d, 'l', 'w')"
      ],
      "execution_count": 2,
      "outputs": [
        {
          "output_type": "stream",
          "name": "stdout",
          "text": [
            "{'l': ['3', 400], 'w': ['2', 50]}\n"
          ]
        }
      ]
    }
  ]
}